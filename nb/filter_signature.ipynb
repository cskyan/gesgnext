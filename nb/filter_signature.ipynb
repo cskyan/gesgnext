{
 "cells": [
  {
   "cell_type": "markdown",
   "metadata": {},
   "source": [
    "# Setting"
   ]
  },
  {
   "cell_type": "code",
   "execution_count": null,
   "metadata": {},
   "outputs": [],
   "source": [
    "LABEL2IDX = {'gene perturbation':2, 'drug perturbation':1, 'disease signature':0}\n",
    "RUN_LABEL = 'disease signature'\n",
    "DATA_PATH = '../../data/gesgnext'\n",
    "\n",
    "import os\n",
    "import numpy as np\n",
    "import scipy as sp\n",
    "import pandas as pd\n",
    "\n",
    "from sklearn.neighbors import radius_neighbors_graph\n",
    "from sklearn.metrics.pairwise import pairwise_distances as pdist\n",
    "\n",
    "from bionlp.util import io\n",
    "from bionlp.model import kallima\n",
    "from bionlp import dstclc\n",
    "\n",
    "# import matplotlib.pyplot as plt\n",
    "# from bionlp.util import plot\n",
    "# plot.MON = False\n",
    "# plt.rcParams['axes.labelweight'] = 'bold'"
   ]
  },
  {
   "cell_type": "markdown",
   "metadata": {},
   "source": [
    "# Read Data"
   ]
  },
  {
   "cell_type": "code",
   "execution_count": null,
   "metadata": {},
   "outputs": [],
   "source": [
    "# GSM Vectors\n",
    "gsm_X = io.read_df(os.path.join(DATA_PATH, 'gsm_X_%i.npz' % LABEL2IDX[RUN_LABEL]), with_idx=True, sparse_fmt='csr')\n",
    "title_cols = [col for col in gsm_X.columns if col.startswith('title')]\n",
    "gsm_X = gsm_X[title_cols]"
   ]
  },
  {
   "cell_type": "code",
   "execution_count": null,
   "metadata": {},
   "outputs": [],
   "source": [
    "# Signatures\n",
    "# sgn_df = pd.read_csv(os.path.join(DATA_PATH, '%s.csv' % RUN_LABEL.replace(' ', '_')))\n",
    "sgn_df = pd.read_excel(os.path.join(DATA_PATH, '%s.xlsx' % RUN_LABEL.replace(' ', '_')))"
   ]
  },
  {
   "cell_type": "markdown",
   "metadata": {},
   "source": [
    "# Process Each GSE Study"
   ]
  },
  {
   "cell_type": "code",
   "execution_count": null,
   "metadata": {
    "scrolled": false
   },
   "outputs": [],
   "source": [
    "# sgn_df = sgn_df[sgn_df.geo_id == 'GSE48301']\n",
    "useless_sgnids = []\n",
    "for geo_id, sgn_ids in sgn_df.groupby('geo_id').groups.iteritems():\n",
    "    if (len(sgn_ids) == 1): continue\n",
    "    # Select the subset of signatures\n",
    "    sub_sgn_df = sgn_df.loc[sgn_ids]\n",
    "    # Extract all the GSM\n",
    "    gsms = list(set('|'.join(['|'.join(sub_sgn_df['ctrl_ids']), '|'.join(sub_sgn_df['pert_ids'])]).split('|')))\n",
    "    gsm_id_map = dict(zip(gsms, range(len(gsms))))\n",
    "    # Retrieve the data for each GSM\n",
    "    X = gsm_X.loc[gsms]\n",
    "    pw_dist = []\n",
    "    # Calculate the pairwise distance\n",
    "    dist_mt = pdist(X, metric='euclidean', n_jobs=-1)\n",
    "    # Process each signature of a GSE study\n",
    "    for idx, sgn in sub_sgn_df.iterrows():\n",
    "        # Extract the control and perturbation GSM indice\n",
    "        ctrl_ids, pert_ids = sgn['ctrl_ids'].split('|'), sgn['pert_ids'].split('|')\n",
    "        \n",
    "        ctrl_idx, pert_idx = [gsm_id_map[x] for x in ctrl_ids], [gsm_id_map[x] for x in pert_ids]\n",
    "        # Obtain the distance matrix of those GSMs, Calculate the distance among clusters\n",
    "#         pw_dist.append(dist_mt[ctrl_idx,:][:,pert_idx].max())\n",
    "        \n",
    "        # Use Ward's Method to measure the cluster distance\n",
    "        num_ctrl, num_pert = len(ctrl_ids), len(pert_ids)\n",
    "        pw_dist.append(1.0 * (num_ctrl * num_pert) / (num_ctrl + num_pert) * (np.linalg.norm(X.loc[ctrl_ids].mean(axis=0) - X.loc[pert_ids].mean(axis=0))))\n",
    "    # Find a cut value for filtering\n",
    "#     plot.plot_hist(np.array(pw_dist), 'Distance of Pairwise Sample Group', 'Number of Group Pairs', title='', style='ggplot', facecolor='skyblue', fmt='pdf', plot_cfg={'xlabel_fontsize':14,'ylabel_fontsize':14})\n",
    "    hist, bin_edges = np.histogram(pw_dist)\n",
    "    weird_val_idx = len(hist) - 1 - np.abs(hist[-1:0:-1] - hist[-2::-1]).argmax()\n",
    "    cut_val = (bin_edges[weird_val_idx] + bin_edges[weird_val_idx + 1]) / 2\n",
    "    cut_val = bin_edges[-2]\n",
    "    # Filter out the signatures\n",
    "    useless_sgnids.extend([sgn_id for sgn_id, dist in zip(sub_sgn_df['id'], pw_dist) if dist > cut_val])"
   ]
  },
  {
   "cell_type": "markdown",
   "metadata": {},
   "source": [
    "# Remove the Useless Signatures and Save"
   ]
  },
  {
   "cell_type": "code",
   "execution_count": null,
   "metadata": {},
   "outputs": [],
   "source": [
    "fltr_sgn_df = sgn_df.set_index('id').drop(useless_sgnids, axis=0)\n",
    "fltr_sgn_df.to_csv('%s.csv' % RUN_LABEL.replace(' ', '_'), encoding='utf8')\n",
    "fltr_sgn_df.to_excel('%s.xlsx' % RUN_LABEL.replace(' ', '_'), encoding='utf8')\n",
    "print 'Filter out %i signatures!' % (sgn_df.shape[0] - fltr_sgn_df.shape[0])"
   ]
  },
  {
   "cell_type": "code",
   "execution_count": null,
   "metadata": {},
   "outputs": [],
   "source": [
    "fltr_sgn_df = pd.read_csv('%s.csv' % RUN_LABEL.replace(' ', '_'), encoding='utf8').set_index('id')\n",
    "sgn_dict, duplc_sgn = {}, []\n",
    "for idx, ctrl_ids, pert_ids in zip(fltr_sgn_df.index, fltr_sgn_df['ctrl_ids'], fltr_sgn_df['pert_ids']):\n",
    "    if (sgn_dict.has_key((ctrl_ids, pert_ids))):\n",
    "        duplc_sgn.append(idx)\n",
    "        print 'Duplicate signature: %s' % idx\n",
    "        continue\n",
    "    else:\n",
    "        sgn_dict[(ctrl_ids, pert_ids)] = idx\n",
    "final_sgn_df = fltr_sgn_df.drop(duplc_sgn, axis=0)\n",
    "final_sgn_df.to_csv('%s.csv' % RUN_LABEL.replace(' ', '_'), encoding='utf8')\n",
    "final_sgn_df.to_excel('%s.xlsx' % RUN_LABEL.replace(' ', '_'), encoding='utf8')\n",
    "print 'Filter out %i signatures!' % (fltr_sgn_df.shape[0] - final_sgn_df.shape[0])"
   ]
  }
 ],
 "metadata": {
  "kernelspec": {
   "display_name": "Python 2",
   "language": "python",
   "name": "python2"
  },
  "language_info": {
   "codemirror_mode": {
    "name": "ipython",
    "version": 2
   },
   "file_extension": ".py",
   "mimetype": "text/x-python",
   "name": "python",
   "nbconvert_exporter": "python",
   "pygments_lexer": "ipython2",
   "version": "2.7.13"
  }
 },
 "nbformat": 4,
 "nbformat_minor": 2
}
