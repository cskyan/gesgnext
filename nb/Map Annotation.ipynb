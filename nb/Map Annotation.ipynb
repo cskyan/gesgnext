{
 "cells": [
  {
   "cell_type": "code",
   "execution_count": null,
   "metadata": {},
   "outputs": [],
   "source": [
    "import os\n",
    "import numpy as np\n",
    "import pandas as pd\n",
    "from bionlp import nlp\n",
    "from bionlp.util import io, func\n",
    "\n",
    "DATA_PATH = '../../data/gesgnext/demo'\n",
    "SC = ';;'\n",
    "\n",
    "# ref_files = ['disease_signatures-v1.0.csv', 'single_drug_perturbations-v1.0.csv', 'single_gene_perturbations-v1.0.csv']\n",
    "# mdf_files = ['post_sgn_0.npz', 'post_sgn_1.npz', 'pre_sgn_2.npz']\n",
    "ref_files = ['disease_signature.csv', 'drug_perturbation.csv', 'gene_perturbation.csv']\n",
    "mdf_files = ['pre_sgn_0.npz', 'pre_sgn_1.npz', 'pre_sgn_2.npz']\n",
    "\n",
    "# col_names = [('disease_name', 'do_id'), ('drug_name', 'drugbank_id'), ('hs_gene_symbol', 'mm_gene_symbol')]\n",
    "col_names = [('disease_name', 'do_id', 'cell_type'), ('drug_name', 'drugbank_id', 'cell_type'), ('hs_gene_symbol', 'mm_gene_symbol','cell_type')]\n",
    "idx_cols = [('ctrl_ids', 'pert_ids'), ('geo_id',)]\n",
    "\n",
    "for ref_f, mdf_f, cols in zip(ref_files, mdf_files, col_names):\n",
    "    ref_df = pd.read_csv(os.path.join(DATA_PATH, ref_f))\n",
    "    mdf_df = io.read_df(os.path.join(DATA_PATH, mdf_f), with_idx=True)\n",
    "    mdf_df.rename(columns={'geo_ids':'geo_id'}, inplace=True)\n",
    "    idx_map = [{} for x in range(len(idx_cols))]\n",
    "    idx = [None for x in range(mdf_df.shape[0])]\n",
    "    for i, idx_col in enumerate(idx_cols):\n",
    "        key_len = len(idx_col)\n",
    "        idx_map[i].update(dict(zip([SC.join(keys) for keys in zip(*[ref_df[x] for x in idx_col])], ref_df.index)))\n",
    "        mdf_key = [SC.join(keys) for keys in zip(*[mdf_df[x] for x in idx_col])]\n",
    "        new_idx = [idx_map[i][x] if (j is None and idx_map[i].has_key(x)) else None for j, x in zip(idx, mdf_key)]\n",
    "        idx = [x if nx is None else nx for x, nx in zip(idx, new_idx)]\n",
    "    columns = [ref_df[col][idx].tolist() for col in cols]\n",
    "    new_df = pd.concat([mdf_df, pd.DataFrame(data=dict(zip(cols, columns)), index=mdf_df.index)], axis=1, join_axes=[mdf_df.index], copy=False)\n",
    "    \n",
    "    cln_sgn_df = new_df.drop(new_df.index[np.where(new_df[cols[0]] == '')[0]], axis=0)\n",
    "    # Create cell type column\n",
    "#     cln_sgn_df['ANAT'] = [' '.join([mdf, x]) if x.startswith('cell') else x for mdf, x in zip(map(nlp.clean_txt, cln_sgn_df['mdf_ANAT'].fillna('')), map(nlp.clean_txt, cln_sgn_df['ANAT'].fillna('')))]\n",
    "#     cln_sgn_df.rename(columns={'ANAT': 'cell_type'}, inplace=True)\n",
    "#     cln_sgn_df.drop('mdf_ANAT', axis=1, inplace=True)\n",
    "    # Delete other useless columns\n",
    "    threshold = 0.5 * cln_sgn_df.shape[0]\n",
    "    del_cols = [col for col in cln_sgn_df.columns if np.where(cln_sgn_df[col] != '')[0].shape[0] < threshold]\n",
    "    cln_sgn_df.drop(del_cols, axis=1, inplace=True)\n",
    "    \n",
    "    fname = os.path.splitext(os.path.basename(mdf_f))[0]\n",
    "    io.write_df(cln_sgn_df, os.path.join(DATA_PATH, 'new_%s.npz' % fname), with_idx=True)\n",
    "    cln_sgn_df.to_csv(os.path.join(DATA_PATH, 'new_%s.csv' % fname), encoding='utf8')\n",
    "#     cln_sgn_df.to_excel(os.path.join(DATA_PATH, 'new_%s.xlsx' % fname), encoding='utf8')"
   ]
  },
  {
   "cell_type": "code",
   "execution_count": null,
   "metadata": {},
   "outputs": [],
   "source": [
    "# Find different rows in two version of signatures\n",
    "\n",
    "import os\n",
    "import pandas as pd\n",
    "\n",
    "DATA_PATH = '../../data/gesgnext'\n",
    "\n",
    "compared_files = [('disease_signature.csv', 'disease_signature.xlsx'), ('drug_perturbation.csv', 'drug_perturbation.xlsx'), ('gene_perturbation.csv', 'gene_perturbation.xlsx')]\n",
    "for fpair in compared_files:\n",
    "    df0 = pd.read_csv(os.path.join(DATA_PATH, fpair[0]))\n",
    "    df1 = pd.read_excel(os.path.join(DATA_PATH, fpair[1]))\n",
    "    print 'Difference between %s and %s is: %s; %s' % (fpair[0], fpair[1], sorted(set(df1['id'])-set(df0['id'])), sorted(set(df0['id'])-set(df1['id'])))"
   ]
  },
  {
   "cell_type": "code",
   "execution_count": null,
   "metadata": {},
   "outputs": [],
   "source": [
    "# Add signature indices\n",
    "\n",
    "import os\n",
    "import pandas as pd\n",
    "\n",
    "DATA_PATH = '../../data/gesgnext/demo'\n",
    "\n",
    "files_ids = [('disease_signature.csv', 'dz'), ('drug_perturbation.csv', 'drug'), ('gene_perturbation.csv', 'gene')]\n",
    "for fname, idlb in files_ids:\n",
    "    df = pd.read_csv(os.path.join(DATA_PATH, fname))\n",
    "    df['id'] = ['%s:%i' % (idlb, x) for x in range(df.shape[0])]\n",
    "    df.to_csv(os.path.join(DATA_PATH, 'mdf_'+fname), index=None)"
   ]
  }
 ],
 "metadata": {
  "kernelspec": {
   "display_name": "Python 2",
   "language": "python",
   "name": "python2"
  },
  "language_info": {
   "codemirror_mode": {
    "name": "ipython",
    "version": 2
   },
   "file_extension": ".py",
   "mimetype": "text/x-python",
   "name": "python",
   "nbconvert_exporter": "python",
   "pygments_lexer": "ipython2",
   "version": "2.7.13"
  }
 },
 "nbformat": 4,
 "nbformat_minor": 2
}
