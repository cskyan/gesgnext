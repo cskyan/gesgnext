{
 "cells": [
  {
   "cell_type": "code",
   "execution_count": null,
   "metadata": {},
   "outputs": [],
   "source": [
    "import os\n",
    "import numpy as np\n",
    "from bionlp.util import io, func, plot\n",
    "\n",
    "%matplotlib inline\n",
    "\n",
    "DATA_PATH = '../../data'"
   ]
  },
  {
   "cell_type": "code",
   "execution_count": null,
   "metadata": {},
   "outputs": [],
   "source": [
    "# fig_caches = ['do_dron_go_roc/roc_disease_ontology.npz', 'orig_do_dron_go_roc/roc_disease_ontology.npz']\n",
    "# fig_caches = ['do_dron_go_roc/roc_drug_ontology.npz', 'orig_do_dron_go_roc/roc_drug_ontology.npz']\n",
    "# fig_caches = ['do_dron_go_roc/roc_gene_ontology.npz', 'orig_do_dron_go_roc/roc_gene_ontology.npz']\n",
    "# fig_caches = ['dgidb_roc/roc_dgidb_ontology.npz', 'orig_dgidb_roc/roc_dgidb_ontology.npz']\n",
    "# fig_caches = ['disgenet_roc/roc_disgenet_ontology.npz', 'orig_disgenet_roc/roc_disgenet_ontology.npz']\n",
    "# fig_caches = ['disgenet_dgidb_roc/roc_disgenet_and_dgidb_ontology.npz', 'orig_disgenet_dgidb_roc/roc_disgenet_and_dgidb_ontology.npz']\n",
    "\n",
    "# fig_caches = ['do_dron_go_roc/roc_disease_ontology.npz', 'orig_do_dron_go_roc_r10/roc_disease_ontology.npz']\n",
    "# fig_caches = ['do_dron_go_roc/roc_drug_ontology.npz', 'orig_do_dron_go_roc_r10/roc_drug_ontology.npz']\n",
    "# fig_caches = ['do_dron_go_roc/roc_gene_ontology.npz', 'orig_do_dron_go_roc_r10/roc_gene_ontology.npz']\n",
    "# fig_caches = ['dgidb_roc/roc_dgidb_ontology.npz', 'orig_dgidb_roc_r10/roc_dgidb_ontology.npz']\n",
    "# fig_caches = ['disgenet_roc/roc_disgenet_ontology.npz', 'orig_disgenet_roc_r10/roc_disgenet_ontology.npz']\n",
    "# fig_caches = ['disgenet_dgidb_roc/roc_disgenet_and_dgidb_ontology.npz', 'orig_disgenet_dgidb_roc_r10/roc_disgenet_and_dgidb_ontology.npz']\n",
    "\n",
    "# fig_caches = ['do_dron_go_roc/roc_disease_ontology.npz', 'orig_do_dron_go_roc_r50/roc_disease_ontology.npz']\n",
    "# fig_caches = ['do_dron_go_roc/roc_drug_ontology.npz', 'orig_do_dron_go_roc_r50/roc_drug_ontology.npz']\n",
    "# fig_caches = ['do_dron_go_roc/roc_gene_ontology.npz', 'orig_do_dron_go_roc_r50/roc_gene_ontology.npz']\n",
    "# fig_caches = ['dgidb_roc/roc_dgidb_ontology.npz', 'orig_dgidb_roc_r50/roc_dgidb_ontology.npz']\n",
    "# fig_caches = ['disgenet_roc/roc_disgenet_ontology.npz', 'orig_disgenet_roc_r50/roc_disgenet_ontology.npz']\n",
    "# fig_caches = ['disgenet_dgidb_roc/roc_disgenet_and_dgidb_ontology.npz', 'orig_disgenet_dgidb_roc_r50/roc_disgenet_and_dgidb_ontology.npz']\n",
    "\n",
    "# fig_caches = ['do_dron_go_roc/roc_gene_ontology.npz', 'roc_gene_regulation.npz']\n",
    "# fig_caches = ['gse_cv/roc_all.npz', 'orig_gse_cv/roc_all.npz']\n",
    "# fig_caches = ['gsm_cv/0/roc_0.npz', 'orig_gsm_cv/0/roc_all.npz']\n",
    "# fig_caches = ['gsm_cv/1/roc_1.npz', 'orig_gsm_cv/1/roc_all.npz']\n",
    "# fig_caches = ['gsm_cv/2/roc_2.npz', 'orig_gsm_cv/2/roc_all.npz']\n",
    "# fig_caches = ['gse_cv/prc_all.npz', 'orig_gse_cv/prc_all.npz']\n",
    "# fig_caches = ['gsm_cv/0/prc_0.npz', 'orig_gsm_cv/0/prc_all.npz']\n",
    "# fig_caches = ['gsm_cv/1/prc_1.npz', 'orig_gsm_cv/1/prc_all.npz']\n",
    "# fig_caches = ['gsm_cv/2/prc_2.npz', 'orig_gsm_cv/2/prc_all.npz']\n",
    "\n",
    "plot.MON = True\n",
    "proc_label = True"
   ]
  },
  {
   "cell_type": "code",
   "execution_count": null,
   "metadata": {
    "scrolled": false
   },
   "outputs": [],
   "source": [
    "# Extract data\n",
    "merged_data = {}\n",
    "for fc in fig_caches:\n",
    "    fig_file = io.read_npz(os.path.join(DATA_PATH, fc))\n",
    "    plot.plot_data(fig_file)\n",
    "    for k, v in fig_file.iteritems():\n",
    "        merged_data.setdefault(k, []).append(v)"
   ]
  },
  {
   "cell_type": "code",
   "execution_count": null,
   "metadata": {},
   "outputs": [],
   "source": [
    "# Process the group information\n",
    "if (merged_data.has_key('groups') and all([x.size>1 or x.item() is not None for x in merged_data['groups']])):\n",
    "    num_data = [x.shape[0] for x in merged_data['data']]\n",
    "    cumnum = np.cumsum(num_data)\n",
    "    for i in range(1, len(merged_data['groups'])):\n",
    "        merged_data['groups'][i] += cumnum[i-1]\n",
    "\n",
    "# Process the labels\n",
    "lb_prefix = ['GeSgnExt-', 'CREEDS-']\n",
    "if (merged_data.has_key('labels') and proc_label):\n",
    "    for prfx, i in zip(lb_prefix, range(len(merged_data['labels']))):\n",
    "        merged_data['labels'][i] = np.array([prfx+lb for lb in merged_data['labels'][i]])\n",
    "\n",
    "# Merge the parameters\n",
    "for k, v in merged_data.iteritems():\n",
    "    if (v[0].shape):\n",
    "        merged_data[k] = np.concatenate(v)\n",
    "    else:\n",
    "        merged_data[k] = v[0]"
   ]
  },
  {
   "cell_type": "code",
   "execution_count": null,
   "metadata": {},
   "outputs": [],
   "source": [
    "nomargin_box = dict(xlim=[0,1], ylim=[0,1])\n",
    "roc_zoomin_box = dict(xlim=[0,0.4], ylim=[0,1])\n",
    "prc_zoomin_box = dict(xlim=[0.4,1], ylim=[0,1])\n",
    "plot.plot_data(merged_data, title='', fmt='pdf', plot_cfg=func.update_dict(dict(lgnd_fontsize=10, cmap='jet'), nomargin_box))"
   ]
  }
 ],
 "metadata": {
  "anaconda-cloud": {},
  "kernelspec": {
   "display_name": "Python 2",
   "language": "python",
   "name": "python2"
  },
  "language_info": {
   "codemirror_mode": {
    "name": "ipython",
    "version": 2
   },
   "file_extension": ".py",
   "mimetype": "text/x-python",
   "name": "python",
   "nbconvert_exporter": "python",
   "pygments_lexer": "ipython2",
   "version": "2.7.13"
  }
 },
 "nbformat": 4,
 "nbformat_minor": 2
}
